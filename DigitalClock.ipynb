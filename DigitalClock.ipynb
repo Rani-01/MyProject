{
 "cells": [
  {
   "cell_type": "code",
   "execution_count": 18,
   "id": "46766caf",
   "metadata": {},
   "outputs": [],
   "source": [
    "from tkinter import *\n",
    "from tkinter.ttk import *\n",
    "\n",
    "from time import strftime"
   ]
  },
  {
   "cell_type": "code",
   "execution_count": 19,
   "id": "8735bf6d",
   "metadata": {},
   "outputs": [
    {
     "data": {
      "text/plain": [
       "''"
      ]
     },
     "execution_count": 19,
     "metadata": {},
     "output_type": "execute_result"
    }
   ],
   "source": [
    "root =Tk()\n",
    "root.title(\"Clock\")\n"
   ]
  },
  {
   "cell_type": "code",
   "execution_count": 20,
   "id": "b02cc54c",
   "metadata": {},
   "outputs": [],
   "source": [
    "def time():\n",
    "    string = strftime('%H:%M:%S %p')\n",
    "    label.config(text = string)\n",
    "    label.after(1000, time)"
   ]
  },
  {
   "cell_type": "code",
   "execution_count": 21,
   "id": "a1d977ba",
   "metadata": {},
   "outputs": [],
   "source": [
    "\n",
    "label = Label(root, font=(\"ds-digital\",80), background = \"black\", foreground = \"cyan\")\n",
    "label.pack(anchor = 'center')\n",
    "time()\n",
    "\n",
    "mainloop()"
   ]
  },
  {
   "cell_type": "code",
   "execution_count": null,
   "id": "8dbc870f",
   "metadata": {},
   "outputs": [],
   "source": []
  }
 ],
 "metadata": {
  "kernelspec": {
   "display_name": "Python 3 (ipykernel)",
   "language": "python",
   "name": "python3"
  },
  "language_info": {
   "codemirror_mode": {
    "name": "ipython",
    "version": 3
   },
   "file_extension": ".py",
   "mimetype": "text/x-python",
   "name": "python",
   "nbconvert_exporter": "python",
   "pygments_lexer": "ipython3",
   "version": "3.9.13"
  }
 },
 "nbformat": 4,
 "nbformat_minor": 5
}
